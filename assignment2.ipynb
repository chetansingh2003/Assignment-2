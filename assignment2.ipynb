{
 "cells": [
  {
   "cell_type": "markdown",
   "id": "3f9796f5",
   "metadata": {},
   "source": [
    "# Assignment-2"
   ]
  },
  {
   "cell_type": "markdown",
   "id": "57d76079",
   "metadata": {},
   "source": [
    "1.\tWrite a Python program to convert kilometers to miles?"
   ]
  },
  {
   "cell_type": "code",
   "execution_count": null,
   "id": "6548b2fc",
   "metadata": {},
   "outputs": [],
   "source": [
    "kilomiter=float(input(\"enter the number of kilomiter :\"))\n",
    "num =0.62137\n",
    "miles=kilomiter*num\n",
    "print(\"Kilomiter to miter\",miles)"
   ]
  },
  {
   "cell_type": "markdown",
   "id": "f995784f",
   "metadata": {},
   "source": [
    "2.\tWrite a Python program to convert Celsius to Fahrenheit?"
   ]
  },
  {
   "cell_type": "code",
   "execution_count": 8,
   "id": "b417a98f",
   "metadata": {},
   "outputs": [
    {
     "name": "stdout",
     "output_type": "stream",
     "text": [
      "enter the calsius :50\n",
      "convert Celsius to Fahrenheit 122.0\n"
     ]
    }
   ],
   "source": [
    "Celsius=float(input(\"enter the number of Calsius :\"))\n",
    "Fahrenheit= (Celsius*1.8)+32\n",
    "print(\"convert Celsius to Fahrenheit\",Fahrenheit)"
   ]
  },
  {
   "cell_type": "markdown",
   "id": "913d2617",
   "metadata": {},
   "source": [
    "3.\tWrite a Python program to display calendar?"
   ]
  },
  {
   "cell_type": "code",
   "execution_count": null,
   "id": "ec63a4b8",
   "metadata": {},
   "outputs": [],
   "source": [
    "month=int(input(\"enter the month\"))\n",
    "year=int(input(\"enter the year\"))\n",
    "\n",
    "\n"
   ]
  },
  {
   "cell_type": "markdown",
   "id": "10367f7d",
   "metadata": {},
   "source": [
    "4.\tWrite a Python program to solve quadratic equation?"
   ]
  },
  {
   "cell_type": "code",
   "execution_count": null,
   "id": "a8701157",
   "metadata": {},
   "outputs": [],
   "source": [
    "\n",
    "\n",
    "\n"
   ]
  },
  {
   "cell_type": "markdown",
   "id": "77b9103f",
   "metadata": {},
   "source": [
    "5.\tWrite a Python program to swap two variables without temp variable?"
   ]
  },
  {
   "cell_type": "code",
   "execution_count": 21,
   "id": "56d39a33",
   "metadata": {},
   "outputs": [
    {
     "name": "stdout",
     "output_type": "stream",
     "text": [
      "enter the number x :10\n",
      "enter the number y :20\n",
      "swap  20\n",
      " swap  10\n"
     ]
    }
   ],
   "source": [
    "x=int(input(\"enter the number x :\"))\n",
    "y=int(input(\"enter the number y :\"))\n",
    "x,y=y,x\n",
    "print(\"swap \",x)\n",
    "print(\" swap \",y)"
   ]
  }
 ],
 "metadata": {
  "kernelspec": {
   "display_name": "Python 3 (ipykernel)",
   "language": "python",
   "name": "python3"
  },
  "language_info": {
   "codemirror_mode": {
    "name": "ipython",
    "version": 3
   },
   "file_extension": ".py",
   "mimetype": "text/x-python",
   "name": "python",
   "nbconvert_exporter": "python",
   "pygments_lexer": "ipython3",
   "version": "3.11.3"
  }
 },
 "nbformat": 4,
 "nbformat_minor": 5
}
